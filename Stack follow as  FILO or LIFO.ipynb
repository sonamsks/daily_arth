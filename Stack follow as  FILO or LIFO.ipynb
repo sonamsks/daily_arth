{
 "cells": [
  {
   "cell_type": "markdown",
   "id": "4f057e1f",
   "metadata": {},
   "source": [
    "# First-In/Last-Out "
   ]
  },
  {
   "cell_type": "code",
   "execution_count": 2,
   "id": "405c9a7b",
   "metadata": {},
   "outputs": [
    {
     "name": "stdout",
     "output_type": "stream",
     "text": [
      "Initial stack\n",
      "['1', '2', '3']\n",
      "\n",
      "Elements popped from stack:\n",
      "3\n",
      "2\n",
      "1\n",
      "\n",
      "Stack after elements are popped:\n",
      "[]\n"
     ]
    }
   ],
   "source": [
    "stack = []\n",
    "stack.append('1')\n",
    "stack.append('2')\n",
    "stack.append('3')\n",
    "print('Initial stack')\n",
    "print(stack)\n",
    "\n",
    "# LIFO order\n",
    "print('\\nElements popped from stack:')\n",
    "print(stack.pop())\n",
    "print(stack.pop())\n",
    "print(stack.pop())\n",
    "print('\\nStack after elements are popped:')\n",
    "print(stack)"
   ]
  },
  {
   "cell_type": "code",
   "execution_count": null,
   "id": "bf1c5479",
   "metadata": {},
   "outputs": [],
   "source": []
  }
 ],
 "metadata": {
  "kernelspec": {
   "display_name": "Python 3",
   "language": "python",
   "name": "python3"
  },
  "language_info": {
   "codemirror_mode": {
    "name": "ipython",
    "version": 3
   },
   "file_extension": ".py",
   "mimetype": "text/x-python",
   "name": "python",
   "nbconvert_exporter": "python",
   "pygments_lexer": "ipython3",
   "version": "3.8.8"
  }
 },
 "nbformat": 4,
 "nbformat_minor": 5
}
